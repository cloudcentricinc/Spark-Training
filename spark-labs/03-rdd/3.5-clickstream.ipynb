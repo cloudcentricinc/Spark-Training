{
 "cells": [
  {
   "cell_type": "markdown",
   "metadata": {},
   "source": [
    "<link rel='stylesheet' href='../assets/css/main.css'/>\n",
    "\n",
    "<< [back to main index](../README.md)\n",
    "\n",
    "Lab 3.5 : Clickstream analysis\n",
    "==============================\n",
    "### Overview\n",
    "Use MapReduce to analyze clickstream data\n",
    "\n",
    "### Depends On \n",
    "[1-mapreduce-intro](1-intro.md)\n",
    "\n",
    "### Run time\n",
    "30-40 mins\n",
    "\n",
    "\n",
    "### STEP 1:  Inspect clickstream sample data\n",
    "\n",
    "\n",
    "Clickstream data has the following format"
   ]
  },
  {
   "cell_type": "markdown",
   "metadata": {},
   "source": [
    "```\n",
    "timestmap, ip_address, user_id,  action,  domain,  campaign_id,  cost, session\n",
    "\n",
    "1420070400000,ip_1,user_5,clicked,facebook.com,campaign_6,139,session_98\n",
    "1420070400864,ip_2,user_3,viewed,facebook.com,campaign_4,35,session_98\n",
    "1420070401728,ip_8,user_8,clicked,youtube.com,campaign_12,115,session_92\n",
    "1420070402592,ip_1,user_2,blocked,wikipedia.org,campaign_5,129,session_91\n",
    "```"
   ]
  },
  {
   "cell_type": "markdown",
   "metadata": {},
   "source": [
    "Sample file located at  `~/spark-labs/data/click-stream/clickstream.csv`\n",
    "\n",
    "We'd like to find out 'traffic from domains'\n"
   ]
  },
  {
   "cell_type": "markdown",
   "metadata": {},
   "source": [
    "### STEP 2: Load the sample clickstream"
   ]
  },
  {
   "cell_type": "code",
   "execution_count": null,
   "metadata": {
    "collapsed": true
   },
   "outputs": [],
   "source": [
    "clickstream = sc.textFile(\"data/click-stream/clickstream.csv\")\n"
   ]
  },
  {
   "cell_type": "markdown",
   "metadata": {},
   "source": [
    "**=> apply map() function to clicks**"
   ]
  },
  {
   "cell_type": "code",
   "execution_count": null,
   "metadata": {
    "collapsed": true
   },
   "outputs": [],
   "source": [
    "# TODO: complete the following:\n",
    "\n",
    "tokens = (???).map(lambda lines: lines.split(\",\"))"
   ]
  },
  {
   "cell_type": "markdown",
   "metadata": {},
   "source": [
    "**=> Inspect the output**\n",
    "\n"
   ]
  },
  {
   "cell_type": "code",
   "execution_count": null,
   "metadata": {
    "collapsed": true
   },
   "outputs": [],
   "source": [
    "TODO: inspect output\n",
    "    \n",
    "    "
   ]
  },
  {
   "cell_type": "markdown",
   "metadata": {},
   "source": [
    "\n",
    "**=> Extract 'domain' field**    \n",
    "Hint : `lines.split(\",\")[???]  // what is the position of domain?`\n",
    "\n"
   ]
  },
  {
   "cell_type": "code",
   "execution_count": null,
   "metadata": {
    "collapsed": true
   },
   "outputs": [],
   "source": [
    "TODO: Extract domain field\n",
    "    \n",
    "    "
   ]
  },
  {
   "cell_type": "markdown",
   "metadata": {},
   "source": [
    "\n",
    "### STEP 3: Create KV pair\n",
    "\n",
    "**=> Emit `(domain, 1)` from map**  \n",
    "\n",
    "**=> Print out the results (hint : `collect`)**"
   ]
  },
  {
   "cell_type": "code",
   "execution_count": null,
   "metadata": {
    "collapsed": true
   },
   "outputs": [],
   "source": [
    "# TODO: complete this:\n",
    "\n",
    "domainsKV = .....map(lambda line: (extract_domain, 1))\n"
   ]
  },
  {
   "cell_type": "markdown",
   "metadata": {},
   "source": [
    "### STEP 4:  Produce count by domain  \n",
    "\n",
    "hint : `countByKey`"
   ]
  },
  {
   "cell_type": "code",
   "execution_count": null,
   "metadata": {
    "collapsed": true
   },
   "outputs": [],
   "source": [
    "# TODO: Complete this:\n",
    "\n",
    "domainCount = domainsKV.???"
   ]
  },
  {
   "cell_type": "markdown",
   "metadata": {},
   "source": [
    "**=> Print out the results**"
   ]
  },
  {
   "cell_type": "code",
   "execution_count": null,
   "metadata": {
    "collapsed": true
   },
   "outputs": [],
   "source": [
    "# TODO: print out results for domainCount"
   ]
  },
  {
   "cell_type": "markdown",
   "metadata": {},
   "source": [
    "### Step 5:  Calculate advertising money spent on each domains  \n",
    "\n",
    "hint 1 : there is a `cost` field  \n",
    "hint 2 : instead of `countByValue`  use  `reduceByKey`"
   ]
  },
  {
   "cell_type": "code",
   "execution_count": null,
   "metadata": {
    "collapsed": true
   },
   "outputs": [],
   "source": [
    "# TODO: Calculate advertising money spent on domains.\n",
    "    "
   ]
  },
  {
   "cell_type": "markdown",
   "metadata": {},
   "source": [
    "\n",
    "### Step 6: Find top domains\n",
    "\n",
    "**=> Sort the domain stats by frequency (top domain first)**  \n",
    "Hint : We are sorting a map by value. Use  `domainCount.toList.sortBy{_._2}`\n",
    "\n"
   ]
  },
  {
   "cell_type": "code",
   "execution_count": null,
   "metadata": {
    "collapsed": true
   },
   "outputs": [],
   "source": [
    "# TODO: Find top domains\n"
   ]
  },
  {
   "cell_type": "markdown",
   "metadata": {},
   "source": [
    "### BONUS LAB 1)  Find top domains that users click most\n",
    "\n",
    "Hint : filter for 'click' action"
   ]
  },
  {
   "cell_type": "code",
   "execution_count": null,
   "metadata": {
    "collapsed": true
   },
   "outputs": [],
   "source": [
    "# TODO: Find top domains that users click most\n",
    "\n"
   ]
  },
  {
   "cell_type": "code",
   "execution_count": null,
   "metadata": {
    "collapsed": true
   },
   "outputs": [],
   "source": [
    "----\n",
    "BONUS LAB 2)  Find  view/click ratio for each domain\n",
    "----"
   ]
  },
  {
   "cell_type": "code",
   "execution_count": null,
   "metadata": {
    "collapsed": true
   },
   "outputs": [],
   "source": [
    "# TODO: find view/click rationfo reach domain\n",
    "\n"
   ]
  }
 ],
 "metadata": {
  "kernelspec": {
   "display_name": "Python 3",
   "language": "python",
   "name": "python3"
  },
  "language_info": {
   "codemirror_mode": {
    "name": "ipython",
    "version": 3
   },
   "file_extension": ".py",
   "mimetype": "text/x-python",
   "name": "python",
   "nbconvert_exporter": "python",
   "pygments_lexer": "ipython3",
   "version": "3.6.0"
  }
 },
 "nbformat": 4,
 "nbformat_minor": 0
}
