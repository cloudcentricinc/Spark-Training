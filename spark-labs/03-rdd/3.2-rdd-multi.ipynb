{
 "cells": [
  {
   "cell_type": "markdown",
   "metadata": {},
   "source": [
    "<link rel='stylesheet' href='../assets/css/main.css'/>\n",
    "\n",
    "[<< back to main index](../README.md)\n",
    "\n",
    "Lab 3.2 : Operations On Multiple RDDs\n",
    "=====================================\n",
    "### Overview\n",
    "learn operations that work with multiple RDDs\n",
    "\n",
    "### Depends On \n",
    "None\n",
    "\n",
    "### Run time\n",
    "15 mins\n",
    "\n",
    "### RDD Documentation : \n",
    "http://spark.apache.org/docs/latest/\n",
    "\n",
    "\n",
    "--------\n",
    "Meetup Recommendation\n",
    "--------\n",
    "User1 attends meetups  m1, m2 and m3.  \n",
    "User2 attends meetups  m2, m3, m4  and m5\n",
    "\n",
    "<img src=\"../assets/images/3.2.png\" style=\"border: 5px solid grey; max-width:100%;\"/>\n",
    "\n",
    "**Find meetups common to both users** \n",
    "\n",
    "**Find meetups attened by either user1 or user2**  \n",
    "**Note there are duplicates in result.  How will you remove dupes?**\n",
    "\n",
    "**Find meetups that only user1 attends**\n",
    "\n",
    "**Recommending meetups to user**   \n",
    "user1 and user2 has a couple of meetups in common.  Let's use to this to recommend meetups to both users  \n",
    "* meetups recommended for user1 : m4 & m5\n",
    "* meetups recommended for user2 : m1\n",
    "\n",
    "\n",
    "-----\n",
    "Hints\n",
    "-----\n",
    "\n",
    "### Step 1: start pyspark shell, or complete the steps here in the notebook."
   ]
  },
  {
   "cell_type": "markdown",
   "metadata": {},
   "source": [
    "### Step 2: create data sets using parallelize() method"
   ]
  },
  {
   "cell_type": "code",
   "execution_count": 1,
   "metadata": {
    "attributes": {
     "classes": [
      "scala"
     ],
     "id": ""
    },
    "collapsed": true
   },
   "outputs": [],
   "source": [
    "u1 = sc.parallelize([\"m1\", \"m2\", \"m3\"])\n",
    "u2 = sc.parallelize(???)"
   ]
  },
  {
   "cell_type": "markdown",
   "metadata": {},
   "source": [
    "### Step 3 : try the following operations in RDDs\n",
    "`union`, `intersection`,  `distinct`,  `subtract`"
   ]
  },
  {
   "cell_type": "code",
   "execution_count": null,
   "metadata": {
    "collapsed": true
   },
   "outputs": [],
   "source": [
    "#TODO: try union, intersection distinct, subtract\n",
    "\n"
   ]
  }
 ],
 "metadata": {
  "kernelspec": {
   "display_name": "Python 3",
   "language": "python",
   "name": "python3"
  },
  "language_info": {
   "codemirror_mode": {
    "name": "ipython",
    "version": 3
   },
   "file_extension": ".py",
   "mimetype": "text/x-python",
   "name": "python",
   "nbconvert_exporter": "python",
   "pygments_lexer": "ipython3",
   "version": "3.5.2"
  }
 },
 "nbformat": 4,
 "nbformat_minor": 0
}
