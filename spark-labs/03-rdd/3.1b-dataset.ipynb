{
 "cells": [
  {
   "cell_type": "markdown",
   "metadata": {},
   "source": [
    "# Lab 3.1b : Python Dataframe Basics operations"
   ]
  },
  {
   "cell_type": "markdown",
   "metadata": {},
   "source": [
    "## Step 1 : Load sample file"
   ]
  },
  {
   "cell_type": "code",
   "execution_count": null,
   "metadata": {
    "collapsed": false
   },
   "outputs": [],
   "source": [
    "f = spark.read.text(\"/data/text/twinkle/sample.txt\")\n",
    "print(f.count())\n",
    "f.show()"
   ]
  },
  {
   "cell_type": "markdown",
   "metadata": {},
   "source": [
    "## Filter\n",
    "Note we are referring to 'value'"
   ]
  },
  {
   "cell_type": "code",
   "execution_count": null,
   "metadata": {
    "collapsed": false
   },
   "outputs": [],
   "source": [
    "# both f.value and f[\"value\"] will work\n",
    "# later version recommended\n",
    "\n",
    "filtered = f.filter(f.value.contains(\"twinkle\"))\n",
    "filtered = f.filter(f[\"value\"].contains(\"twinkle\"))\n",
    "print(filtered.count())\n",
    "filtered.show()"
   ]
  },
  {
   "cell_type": "markdown",
   "metadata": {},
   "source": [
    "## Checkout Spark Shell UI (4040)\n",
    "\n",
    "Also see the DAG visualizations"
   ]
  },
  {
   "cell_type": "markdown",
   "metadata": {},
   "source": [
    "## Load larger dataset"
   ]
  },
  {
   "cell_type": "code",
   "execution_count": null,
   "metadata": {
    "collapsed": false
   },
   "outputs": [],
   "source": [
    "f = spark.read.text(\"/data/text/twinkle/100M.data\")\n",
    "print (f.count())\n",
    "f.show()"
   ]
  },
  {
   "cell_type": "markdown",
   "metadata": {},
   "source": [
    "## Inspect Job Details\n",
    "How many tasks were allocated to the latest job?  Can you figure out why?\n",
    "Hint : get number of partitions"
   ]
  },
  {
   "cell_type": "code",
   "execution_count": null,
   "metadata": {
    "collapsed": false
   },
   "outputs": [],
   "source": [
    "f.rdd.getNumPartitions()"
   ]
  },
  {
   "cell_type": "markdown",
   "metadata": {},
   "source": [
    "## Loading Multiple Files\n",
    "Try the following"
   ]
  },
  {
   "cell_type": "code",
   "execution_count": null,
   "metadata": {
    "collapsed": false
   },
   "outputs": [],
   "source": [
    "f = spark.read.text(\"/data/text/twinkle/*.data\")\n",
    "\n",
    "# TODO : how many records?\n",
    "print (f.count())\n"
   ]
  },
  {
   "cell_type": "markdown",
   "metadata": {},
   "source": [
    "## Save filtered data"
   ]
  },
  {
   "cell_type": "code",
   "execution_count": null,
   "metadata": {
    "collapsed": true
   },
   "outputs": [],
   "source": [
    "filtered = f.filter(f[\"value\"].contains(\"twinkle\"))\n",
    "filtered.write.text(\"out\")"
   ]
  },
  {
   "cell_type": "markdown",
   "metadata": {},
   "source": [
    "As the program is running checkout spark console (where you started Jupyter from).\n",
    "You will see output like this\n",
    "\n",
    "[Stage 16:==========================>                             (15 + 4) / 32]\n",
    "\n",
    "Also inspect 'out' directory.\n",
    "What do you see?"
   ]
  },
  {
   "cell_type": "markdown",
   "metadata": {},
   "source": [
    "## Bonus Lab : Merging multiple partitions into ONE\n",
    "When we saved data in the above section, there are multiple files created in output directory. Can you just create one output file?\n",
    "\n",
    "Hint : see the API for `coalesce` or `repartition`"
   ]
  }
 ],
 "metadata": {
  "kernelspec": {
   "display_name": "Python 3",
   "language": "python",
   "name": "python3"
  },
  "language_info": {
   "codemirror_mode": {
    "name": "ipython",
    "version": 3
   },
   "file_extension": ".py",
   "mimetype": "text/x-python",
   "name": "python",
   "nbconvert_exporter": "python",
   "pygments_lexer": "ipython3",
   "version": "3.6.0"
  }
 },
 "nbformat": 4,
 "nbformat_minor": 2
}
