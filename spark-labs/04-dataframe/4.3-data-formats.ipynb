{
 "cells": [
  {
   "cell_type": "markdown",
   "metadata": {},
   "source": [
    "<link rel='stylesheet' href='../assets/css/main.css'/>\n",
    "\n",
    "[<< back to main index](../README.md) \n",
    "\n",
    "Lab 4.3 : Data formats (JSON vs. Parquet vs. ORC)\n",
    "==========================================\n",
    "\n",
    "### Overview\n",
    "Comparing different data formats for Dataframes.  We will evaluate JSON, Parquet and ORC format.\n",
    "\n",
    "Background reads:\n",
    "- [Spark data frames](https://spark.apache.org/docs/latest/sql-programming-guide.html)\n",
    "- JSON format \n",
    "    - [wikipedia](https://en.wikipedia.org/wiki/JSON)\n",
    "    - [json.org](http://json.org/)\n",
    "- Parquet format\n",
    "    - [Parquet project](https://parquet.apache.org/)\n",
    "    - [parquet github](https://github.com/Parquet/parquet-format)\n",
    "    - [presentation](http://www.slideshare.net/larsgeorge/parquet-data-io-philadelphia-2013)\n",
    "- ORC format\n",
    "    + [ORC project](https://orc.apache.org/)\n",
    "    + [ORC explained](http://www.semantikoz.com/blog/orc-intelligent-big-data-file-format-hadoop-hive/)\n",
    "    + [ORC performance](http://docs.hortonworks.com/HDPDocuments/HDP2/HDP-2.4.3/bk_performance_tuning/content/hive_perf_best_pract_use_orc_file_format.html)\n",
    "\n",
    "### Depends On \n",
    "None\n",
    "\n",
    "### Run time\n",
    "20-30 mins\n",
    "\n",
    "\n",
    "### STEP 1: Clickstream data\n",
    "There is about 1G+ clickstream data stored in `/data/click-stream/json` directory.  \n",
    "**=> Inspect json logs**"
   ]
  },
  {
   "cell_type": "markdown",
   "metadata": {},
   "source": [
    "```bash\n",
    "$    head /data/click-stream/json/2015-01-01.json\n",
    "\n",
    "    ## [Optional] If you need to generate more data....\n",
    "    # $    cp ~/spark-labs/data/click-stream/*   ~/data/click-stream/\n",
    "    # $    cd   ~/data/click-stream/\n",
    "    # $    python   gen-clickstream-json.py\n",
    "```"
   ]
  },
  {
   "cell_type": "markdown",
   "metadata": {},
   "source": [
    "### STEP 2: Benchmarking Spreadsheet\n",
    "Download and inspect [Benchmarking_Dataformats.xlsx](Benchmarking_Dataformats.xlsx).  \n",
    "**We will be filling out the values in this spreadsheet, as we execute commands on Spark Shell.**\n",
    "\n",
    "It will look like this (click on the image for larger version)\n",
    "\n",
    "<a href=\"../assets/images/5.3a.png\"><img src=\"../assets/images/5.3a-small.png\" style=\"border: 5px solid grey; max-width:100%;\"/></a>\n",
    "\n",
    "\n",
    "### STEP 3: Start Spark Shell & ATOP\n",
    "\n",
    "Note : start the shell from home dir."
   ]
  },
  {
   "cell_type": "markdown",
   "metadata": {},
   "source": [
    "```bash\n",
    "$  cd   # make sure in home dir\n",
    "\n",
    "    # start spark shell with more memory\n",
    "    $    ~/spark/bin/pyspark --executor-memory 2g  --driver-memory 1g\n",
    "```"
   ]
  },
  {
   "cell_type": "markdown",
   "metadata": {},
   "source": [
    "Set the log level to INFO (so we can measure time taken for each job)"
   ]
  },
  {
   "cell_type": "code",
   "execution_count": null,
   "metadata": {
    "attributes": {
     "classes": [
      "scala"
     ],
     "id": ""
    },
    "collapsed": true
   },
   "outputs": [],
   "source": [
    "sc.setLogLevel(\"INFO\")"
   ]
  },
  {
   "cell_type": "markdown",
   "metadata": {},
   "source": [
    "Also open another terminal and run `atop`.  \n",
    "We will use this to monitor CPU / IO usage \n",
    "\n",
    "### STEP 4: Setup SQL Imports\n",
    "\n",
    "**This is not necessary in Spark Shell, but needed in Spark applications**"
   ]
  },
  {
   "cell_type": "markdown",
   "metadata": {},
   "source": [
    "### STEP 5: Load Clickstream data"
   ]
  },
  {
   "cell_type": "code",
   "execution_count": null,
   "metadata": {
    "attributes": {
     "classes": [
      "scala"
     ],
     "id": ""
    },
    "collapsed": false
   },
   "outputs": [],
   "source": [
    "# load all the files in the dir\n",
    "clicksJson = spark.read.json(\"/data/click-stream/json/\")"
   ]
  },
  {
   "cell_type": "markdown",
   "metadata": {},
   "source": [
    "**==> While the import is running take a look at `atop` terminal.  Which of the resources are we maxing out?**  \n",
    "**==> Measure the time taken to load JSON data; record it in the spreadsheet**  \n",
    "\n",
    "**==> Find the max value of cost**   \n",
    "**==> While the query is running, check `atop`**"
   ]
  },
  {
   "cell_type": "code",
   "execution_count": null,
   "metadata": {
    "attributes": {
     "classes": [
      "scala"
     ],
     "id": ""
    },
    "collapsed": false
   },
   "outputs": [],
   "source": [
    "from pyspark.sql import *\n",
    "clicksJson.registerTempTable(\"clickjson\")\n",
    "maxCost = spark.sql(\"SELECT MAX(cost) FROM clickjson\")\n",
    "\n",
    "maxCost.show()"
   ]
  },
  {
   "cell_type": "markdown",
   "metadata": {},
   "source": [
    "Sample output"
   ]
  },
  {
   "cell_type": "code",
   "execution_count": null,
   "metadata": {
    "attributes": {
     "classes": [
      "console"
     ],
     "id": ""
    },
    "collapsed": true
   },
   "outputs": [],
   "source": [
    "    +---------+\n",
    "    |MAX(cost)|\n",
    "    +---------+\n",
    "    |      180|\n",
    "    +---------+"
   ]
  },
  {
   "cell_type": "markdown",
   "metadata": {},
   "source": [
    "**==> Note the time it took to run the query, and record it in spreadsheet**"
   ]
  },
  {
   "cell_type": "code",
   "execution_count": null,
   "metadata": {
    "attributes": {
     "classes": [
      "console"
     ],
     "id": ""
    },
    "collapsed": true
   },
   "outputs": [],
   "source": [
    "    Job 1 finished: show at <console>:24, took `8.550481 s`"
   ]
  },
  {
   "cell_type": "markdown",
   "metadata": {},
   "source": [
    "### STEP 6 : Save the logs in Parquet format\n",
    "\n",
    "We are going to use Spark's built-in parquet support to save the dataframe into parquet format"
   ]
  },
  {
   "cell_type": "code",
   "execution_count": null,
   "metadata": {
    "attributes": {
     "classes": [
      "scala"
     ],
     "id": ""
    },
    "collapsed": true
   },
   "outputs": [],
   "source": [
    "    clicksJson.write.parquet(\"data/click-stream/parquet\")"
   ]
  },
  {
   "cell_type": "markdown",
   "metadata": {},
   "source": [
    "**==> Inspect `atop`**  \n",
    "**==> Measure the time taken to 'save as parquet' and record it in spreadsheet**  \n",
    "**==> Once the job is completed, inspect the `~/data/click-stream/parquet` directory**"
   ]
  },
  {
   "cell_type": "code",
   "execution_count": null,
   "metadata": {
    "collapsed": true
   },
   "outputs": [],
   "source": [
    "%%bash\n",
    "    $   ls -la   ~/data/click-stream/parquet"
   ]
  },
  {
   "cell_type": "markdown",
   "metadata": {},
   "source": [
    "Output might look like this"
   ]
  },
  {
   "cell_type": "code",
   "execution_count": null,
   "metadata": {
    "attributes": {
     "classes": [
      "console"
     ],
     "id": ""
    },
    "collapsed": true
   },
   "outputs": [],
   "source": [
    "    -rw-r--r--  1 sujee  staff     0B Jul 19 12:40 _SUCCESS\n",
    "    -rw-r--r--  1 sujee  staff   756B Jul 19 12:40 _common_metadata\n",
    "    -rw-r--r--  1 sujee  staff    56K Jul 19 12:40 _metadata\n",
    "    -rw-r--r--  1 sujee  staff   1.8M Jul 19 12:39 part-r-00000-9ceb13fe-a57c-4af1-993e-d998d6c41008.gz.parquet\n",
    "    -rw-r--r--  1 sujee  staff   1.8M Jul 19 12:39 part-r-00001-9ceb13fe-a57c-4af1-993e-d998d6c41008.gz.parquet"
   ]
  },
  {
   "cell_type": "markdown",
   "metadata": {},
   "source": [
    "**==> Inspect parquet metadata**"
   ]
  },
  {
   "cell_type": "code",
   "execution_count": null,
   "metadata": {
    "collapsed": true
   },
   "outputs": [],
   "source": [
    "$    cat   ~/data/click-stream/parquet/_common_metadata\n",
    "$    cat   ~/data/click-stream/parquet/_metadata\n"
   ]
  },
  {
   "cell_type": "markdown",
   "metadata": {},
   "source": [
    "## Step 7 : Saving ORC"
   ]
  },
  {
   "cell_type": "code",
   "execution_count": null,
   "metadata": {
    "attributes": {
     "classes": [
      "scala"
     ],
     "id": ""
    },
    "collapsed": true
   },
   "outputs": [],
   "source": [
    "clicksJson.write.orc(\"data/click-stream/orc\")"
   ]
  },
  {
   "cell_type": "markdown",
   "metadata": {},
   "source": [
    "**==> Measure the time taken to save as ORC and record in spreadsheet**   \n",
    "\n",
    "## STEP 8 : Querying Parquet Data"
   ]
  },
  {
   "cell_type": "code",
   "execution_count": null,
   "metadata": {
    "attributes": {
     "classes": [
      "scala"
     ],
     "id": ""
    },
    "collapsed": true
   },
   "outputs": [],
   "source": [
    "clicksParquet = spark.read.parquet(\"data/click-stream/parquet\")\n",
    "clicksParquet.registerTempTable(\"clickparquet\")\n",
    "\n"
   ]
  },
  {
   "cell_type": "markdown",
   "metadata": {},
   "source": [
    "**==> Note how quickly the data is loaded; measure this time and record in spreadsheet**   \n",
    "**==> and schema is inferred!**  \n",
    "\n",
    "Parquet format has built-in schema, so Spark doesn't have to parse the files as needed in JSON format\n",
    "\n",
    "**==> Caclculate max(cost)**"
   ]
  },
  {
   "cell_type": "code",
   "execution_count": null,
   "metadata": {
    "attributes": {
     "classes": [
      "scala"
     ],
     "id": ""
    },
    "collapsed": false
   },
   "outputs": [],
   "source": [
    "maxCost = spark.sql(\"SELECT MAX(cost) FROM clicksparquet\")"
   ]
  },
  {
   "cell_type": "markdown",
   "metadata": {},
   "source": [
    "**==> Notice the time took and record in spreadsheet**    \n",
    "Sample output"
   ]
  },
  {
   "cell_type": "markdown",
   "metadata": {
    "attributes": {
     "classes": [
      "console"
     ],
     "id": ""
    },
    "collapsed": true
   },
   "source": [
    "Job 3 finished: show at <console>:24, took `0.627185 s`"
   ]
  },
  {
   "cell_type": "markdown",
   "metadata": {},
   "source": [
    "**==> Why parquet is so quick to process?** \n",
    "\n",
    "\n",
    "## STEP 9 : Querying ORC"
   ]
  },
  {
   "cell_type": "code",
   "execution_count": null,
   "metadata": {
    "attributes": {
     "classes": [
      "scala "
     ],
     "id": ""
    },
    "collapsed": true
   },
   "outputs": [],
   "source": [
    "clicksORC = spark.read.orc(\"data/click-stream/orc\")\n",
    "clicksORC.registerTempTable(\"clicksorc\")\n",
    "\n"
   ]
  },
  {
   "cell_type": "markdown",
   "metadata": {},
   "source": [
    "**==> Note the load time and record in spreadsheet**   \n",
    "\n",
    "**==> Measure query time and record in spreadsheet**"
   ]
  },
  {
   "cell_type": "code",
   "execution_count": null,
   "metadata": {
    "attributes": {
     "classes": [
      "scala"
     ],
     "id": ""
    },
    "collapsed": true
   },
   "outputs": [],
   "source": [
    "maxCost = spark.sql(\"SELECT MAX(cost) FROM clicksorc\")"
   ]
  },
  {
   "cell_type": "markdown",
   "metadata": {},
   "source": [
    "## Step 10 : Compare Data Sizes\n",
    "Enter the size in bytes in spreadsheet**"
   ]
  },
  {
   "cell_type": "markdown",
   "metadata": {},
   "source": [
    "```bash\n",
    "# bytes for spreadsheet\n",
    "    $    du -b  ~/data/click-stream/*\n",
    "    # in Mac use `du -k`\n",
    "\n",
    "    # for human readable format use\n",
    "    $    du -skh  ~/data/click-stream/*\n",
    "```"
   ]
  },
  {
   "cell_type": "markdown",
   "metadata": {},
   "source": [
    "Sample output"
   ]
  },
  {
   "cell_type": "code",
   "execution_count": null,
   "metadata": {
    "attributes": {
     "classes": [
      "console"
     ],
     "id": ""
    },
    "collapsed": true
   },
   "outputs": [],
   "source": [
    "```\n",
    "    1415178847  /Users/sujee/data/click-stream/json\n",
    "    161398938   /Users/sujee/data/click-stream/json-gz\n",
    "    105793926   /Users/sujee/data/click-stream/orc\n",
    "    118394196   /Users/sujee/data/click-stream/parquet\n",
    "```"
   ]
  },
  {
   "cell_type": "markdown",
   "metadata": {},
   "source": [
    "**==> Record the byte sizes in spreadsheet**   \n",
    "\n",
    "### STEP 8 : Compressed JSON\n",
    "\n",
    "We are going to store JSON files in compressed gzip format\n",
    "\n",
    "**==> Compress the files**"
   ]
  },
  {
   "cell_type": "markdown",
   "metadata": {},
   "source": [
    "```bash\n",
    "$    cd   ~/data/click-stream\n",
    "$   ./compress-json.sh\n",
    "```"
   ]
  },
  {
   "cell_type": "markdown",
   "metadata": {},
   "source": [
    "This will create compressed JSON in `json-gz` directory\n",
    "\n",
    "**==> Inspect directory sizes**"
   ]
  },
  {
   "cell_type": "code",
   "execution_count": null,
   "metadata": {
    "collapsed": true
   },
   "outputs": [],
   "source": [
    "```bash\n",
    "    # bytes for spreadsheet\n",
    "    $    du -b json    json-gz   parquet \n",
    "\n",
    "    # human readable format\n",
    "    $    du -skh  json    json-gz   parquet \n",
    "```"
   ]
  },
  {
   "cell_type": "markdown",
   "metadata": {},
   "source": [
    "Sample output"
   ]
  },
  {
   "cell_type": "code",
   "execution_count": null,
   "metadata": {
    "collapsed": true
   },
   "outputs": [],
   "source": [
    "```\n",
    "1.3G    json\n",
    "154M    json-gz\n",
    " 77M    parquet\n",
    "```"
   ]
  },
  {
   "cell_type": "markdown",
   "metadata": {},
   "source": [
    "**==> Load compressed json files in Spark shell and do the same processing**  \n",
    "**==> Look at `atop` window to see resource usage**"
   ]
  },
  {
   "cell_type": "code",
   "execution_count": null,
   "metadata": {
    "collapsed": false
   },
   "outputs": [],
   "source": [
    "#note the parsing time\n",
    "clicksJgz = spark.read.json(\"data/click-stream/json-gz\")\n",
    "clicksParquet.registerTempTable(\"clicksjsongz\")\n",
    "\n",
    "\n",
    "\n",
    "# calculate the max cost\n",
    "#notice the time took\n",
    "maxCost = spark.sql(\"SELECT MAX(cost) FROM clicksjsongz\")\n",
    "\n",
    "# output : Job 7 finished: show at console:22, took 8.066727 s\n"
   ]
  },
  {
   "cell_type": "markdown",
   "metadata": {},
   "source": [
    "### STEP 9 : Analyze / discuss results"
   ]
  },
  {
   "cell_type": "markdown",
   "metadata": {},
   "source": [
    "Here are numbers from my run:\n",
    "\n",
    "```\n",
    "|format   | storage size |  loading time | query time : max(cost)|\n",
    "|---------|:-------------|:--------------|:---------------------:|\n",
    "| json    |  1.3 G       |  8.3 s        |   4.6 s               |\n",
    "| json.gz |  154 M       |  8.5 s        |   4.1 s               | \n",
    "| parquet |  101 M       |    0 s        |   0.23 s              | \n",
    "| ORC     |  113 M       |    0 s        |   0.76 s              | \n",
    "```"
   ]
  },
  {
   "cell_type": "markdown",
   "metadata": {},
   "source": [
    "**==> Also discuss your findings from `atop`.  Which resource 'ceiling' we are hitting first?  CPU / Memory / Disk ?**"
   ]
  }
 ],
 "metadata": {
  "kernelspec": {
   "display_name": "Python 3",
   "language": "python",
   "name": "python3"
  },
  "language_info": {
   "codemirror_mode": {
    "name": "ipython",
    "version": 3
   },
   "file_extension": ".py",
   "mimetype": "text/x-python",
   "name": "python",
   "nbconvert_exporter": "python",
   "pygments_lexer": "ipython3",
   "version": "3.5.2"
  }
 },
 "nbformat": 4,
 "nbformat_minor": 0
}
