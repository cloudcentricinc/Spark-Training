{
 "cells": [
  {
   "cell_type": "markdown",
   "metadata": {},
   "source": [
    "<link rel='stylesheet' href='../assets/css/main.css'/>\n",
    "\n",
    "[<< back to main index](../../README.md) \n",
    "\n",
    "7.2 : Graphx Shortest Path\n",
    "============================\n",
    "\n",
    "### Overview\n",
    "We will find the shortest path on the graph from one point to another. The lab is done by executing each step\n",
    "in the Spark shell. This allows the student to examine and understand each step, and to modify parameters as we go.\n",
    "After you have executed the code in each step individually, you will collect this code in script, \n",
    "\n",
    "For our data, we will use LinkedIn. Therefore, the shortest path will tell us how to connect to the target person\n",
    "we want to connect with.\n",
    "\n",
    "<img src=\"../assets/images/7.2-connections.png\" style=\"border: 5px solid grey; max-width:100%;\" />\n",
    "\n",
    "### Depends On \n",
    "None\n",
    "\n",
    "### Run time\n",
    "30 mins\n",
    "\n",
    "\n",
    "## STEP 0: Start Pyspark with GraphFrames library loaded\n"
   ]
  },
  {
   "cell_type": "markdown",
   "metadata": {},
   "source": [
    "```bash\n",
    "$   ~/spark/bin/pyspark --packages graphframes:graphframes:0.3.0-spark2.0-s_2.11\n",
    "```"
   ]
  },
  {
   "cell_type": "markdown",
   "metadata": {},
   "source": [
    "## Step 1: Import the general GraphX libraries"
   ]
  },
  {
   "cell_type": "code",
   "execution_count": null,
   "metadata": {
    "attributes": {
     "classes": [
      "scala"
     ],
     "id": ""
    },
    "collapsed": true
   },
   "outputs": [],
   "source": [
    "from graphframes import *"
   ]
  },
  {
   "cell_type": "markdown",
   "metadata": {},
   "source": [
    "## Step 3: Import the library for random graph generation\n",
    "\n",
    "Using random graphs will allow us to easily experiment with different graph sizes"
   ]
  },
  {
   "cell_type": "code",
   "execution_count": null,
   "metadata": {
    "attributes": {
     "classes": [
      "scala"
     ],
     "id": ""
    },
    "collapsed": true
   },
   "outputs": [],
   "source": [
    "    import org.apache.spark.graphx.util.GraphGenerators"
   ]
  },
  {
   "cell_type": "markdown",
   "metadata": {},
   "source": [
    "## Step 4: Generate a graph\n",
    "\n",
    "This is the graph we are modeling\n",
    "\n",
    "<img src=\"../assets/images/7.2-network.png\" style=\"border: 5px solid grey; max-width:100%;\" />"
   ]
  },
  {
   "cell_type": "code",
   "execution_count": null,
   "metadata": {
    "attributes": {
     "classes": [
      "scala"
     ],
     "id": ""
    },
    "collapsed": true
   },
   "outputs": [],
   "source": [
    "vertexArray = sqlContext.createDataFrame([\n",
    "#direct connections\n",
    "        (1, \"Mark Kerzner\", 2757), # (Name, # of connections)\n",
    "        (2, \"Sujee Maniyam\", 891),\n",
    "        (3, \"Yaakov Weintraub\", 105),\n",
    "        (4, \"Packt Publishing\", 2984),\n",
    "        (5, \"Barry Kaufman\", 500),\n",
    "        # indirect connections\n",
    "        (6, \"Tony Piazza\", 500),\n",
    "        (7, \"Tim Fox\", 500),\n",
    "        (8, \"Vamsi Sistla\", 1000)\n",
    "], [\"id\", \"name\", \"numconnections\"])"
   ]
  },
  {
   "cell_type": "markdown",
   "metadata": {},
   "source": [
    "In this graph, we have the user name and the number of connections. The number of connections is a natural things to have; \n",
    "we will store it, but not use it at this time.\n",
    "        \n",
    "## Step 5: Fix the goal to reach. Set to to calculate the shortest connection paths for Mark Kerzner"
   ]
  },
  {
   "cell_type": "code",
   "execution_count": null,
   "metadata": {
    "attributes": {
     "classes": [
      "scala"
     ],
     "id": ""
    },
    "collapsed": true
   },
   "outputs": [],
   "source": [
    "sourceId = ???"
   ]
  },
  {
   "cell_type": "markdown",
   "metadata": {},
   "source": [
    "## Step 6: Initialize connections on the graph\n",
    "Connections are represented as edges.  Go ahead a create an `edgeArray` to represent the graph data in picture.  \n",
    "For example, a connection from *Mark Kerzner (1)* to *Sujee Maniyam (2)* is represented as"
   ]
  },
  {
   "cell_type": "code",
   "execution_count": null,
   "metadata": {
    "attributes": {
     "classes": [
      "scala"
     ],
     "id": ""
    },
    "collapsed": true
   },
   "outputs": [],
   "source": [
    "(1, 2, 1)"
   ]
  },
  {
   "cell_type": "markdown",
   "metadata": {},
   "source": [
    "All connections have a weight of `1`.  Complete the following"
   ]
  },
  {
   "cell_type": "code",
   "execution_count": null,
   "metadata": {
    "attributes": {
     "classes": [
      "scala"
     ],
     "id": ""
    },
    "collapsed": true
   },
   "outputs": [],
   "source": [
    "edgeArray = sqlContext.createDataFrame([\n",
    "        (1, 2, 1),\n",
    "        (1, 3, 1),\n",
    "        # TODO : add in other edges\n",
    "], [\"src\", \"dst\", \"weight\"])"
   ]
  },
  {
   "cell_type": "markdown",
   "metadata": {},
   "source": [
    "Which connections are direct for Mark and which are indirect?\n",
    "\n",
    "## Step 7: For the graph of LinkedIn connections"
   ]
  },
  {
   "cell_type": "code",
   "execution_count": null,
   "metadata": {
    "attributes": {
     "classes": [
      "scala"
     ],
     "id": ""
    },
    "collapsed": false
   },
   "outputs": [],
   "source": [
    "#graph = GraphFrame(????)\n",
    "graph = GraphFrame(vertexArray, edgeArray)"
   ]
  },
  {
   "cell_type": "markdown",
   "metadata": {},
   "source": [
    "## Step 8 : Print the graph"
   ]
  },
  {
   "cell_type": "code",
   "execution_count": null,
   "metadata": {
    "attributes": {
     "classes": [
      "scala"
     ],
     "id": ""
    },
    "collapsed": false
   },
   "outputs": [],
   "source": [
    "graph.vertices.show()\n",
    "graph.edges.show()"
   ]
  },
  {
   "cell_type": "markdown",
   "metadata": {},
   "source": [
    "## Step 9: Prepare the graph to be used for computations.\n",
    "\n",
    "Set the initial distance from Mark to Mark to 0, and all other distances to infinity"
   ]
  },
  {
   "cell_type": "markdown",
   "metadata": {},
   "source": [
    "<img src=\"../assets/images/7.2c.png\" style=\"border: 5px solid grey; max-width:100%;\" />\n",
    "\n",
    "## Step 10: Compute shortest distances\n",
    "\n",
    "Use Pregel to compute shortest distances between the root and every other vertix on the graph. \n",
    "Please note that since computing the shortest distance between two vertices anyway involves computing many intermediate short distances,\n",
    "Pregel takes a generic approach of computing all shortest distances"
   ]
  },
  {
   "cell_type": "code",
   "execution_count": null,
   "metadata": {
    "attributes": {
     "classes": [
      "scala"
     ],
     "id": ""
    },
    "collapsed": false
   },
   "outputs": [],
   "source": [
    "results = graph.shortestPaths(landmarks=[1,2])"
   ]
  },
  {
   "cell_type": "markdown",
   "metadata": {},
   "source": [
    "## Step 11: Collect and print out the results"
   ]
  },
  {
   "cell_type": "code",
   "execution_count": null,
   "metadata": {
    "attributes": {
     "classes": [
      "scala"
     ],
     "id": ""
    },
    "collapsed": false,
    "scrolled": false
   },
   "outputs": [],
   "source": [
    "results.show()"
   ]
  },
  {
   "cell_type": "markdown",
   "metadata": {},
   "source": [
    "Explain the results\n",
    "    \n",
    "## Bonus Lab 1\n",
    "Construct a small graph of air flights between cities. Use 4-6 cities. Put the prices of flying between two cities into the edges above, replacing the number \"1\" with the actual price.\n",
    "\n",
    "Calculate the cheapest flights between cities."
   ]
  }
 ],
 "metadata": {
  "kernelspec": {
   "display_name": "Python 3",
   "language": "python",
   "name": "python3"
  },
  "language_info": {
   "codemirror_mode": {
    "name": "ipython",
    "version": 3
   },
   "file_extension": ".py",
   "mimetype": "text/x-python",
   "name": "python",
   "nbconvert_exporter": "python",
   "pygments_lexer": "ipython3",
   "version": "3.5.2"
  }
 },
 "nbformat": 4,
 "nbformat_minor": 0
}
